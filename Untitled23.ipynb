{
  "nbformat": 4,
  "nbformat_minor": 0,
  "metadata": {
    "colab": {
      "provenance": [],
      "authorship_tag": "ABX9TyNjM8mwtYt6mpxVBGid6Y8r",
      "include_colab_link": true
    },
    "kernelspec": {
      "name": "python3",
      "display_name": "Python 3"
    },
    "language_info": {
      "name": "python"
    }
  },
  "cells": [
    {
      "cell_type": "markdown",
      "metadata": {
        "id": "view-in-github",
        "colab_type": "text"
      },
      "source": [
        "<a href=\"https://colab.research.google.com/github/rahmosthated/student-cal/blob/main/Untitled23.ipynb\" target=\"_parent\"><img src=\"https://colab.research.google.com/assets/colab-badge.svg\" alt=\"Open In Colab\"/></a>"
      ]
    },
    {
      "cell_type": "code",
      "execution_count": null,
      "metadata": {
        "id": "iP0vSa9In24l"
      },
      "outputs": [],
      "source": [
        "# ------------------------------------------------------\n",
        "# Function: calculate_interest\n",
        "# Purpose: To calculate simple interest using the formula\n",
        "# Formula: Simple Interest = (Principal × Rate × Time) / 100\n",
        "# ------------------------------------------------------\n",
        "\n",
        "def calculate_interest(principal, rate, time):\n",
        "    \"\"\"\n",
        "    This function calculates the simple interest.\n",
        "\n",
        "    Parameters:\n",
        "    - principal: The original amount of money borrowed or invested\n",
        "    - rate: The annual interest rate (as a percentage, e.g., 5 for 5%)\n",
        "    - time: The time in years for which the money is borrowed or invested\n",
        "\n",
        "    Returns:\n",
        "    - The simple interest calculated based on the given values\n",
        "    \"\"\"\n",
        "\n",
        "    # Apply the simple interest formula\n",
        "    interest = (principal * rate * time) / 100\n",
        "\n",
        "    # Return the computed interest to wherever the function was called\n",
        "    return interest\n",
        "\n",
        "# ------------------------------------------------------\n",
        "# Test the function by calling it 3 times with different values\n",
        "# ------------------------------------------------------\n",
        "\n",
        "# Test Case 1\n",
        "# Principal = $1000, Rate = 5%, Time = 2 years\n",
        "# Expected Interest = (1000 × 5 × 2) / 100 = $100\n",
        "interest1 = calculate_interest(1000, 5, 2)\n",
        "\n",
        "# Print the result, formatted to 2 decimal places\n",
        "print(f\"Interest 1: ${interest1:.2f}\")  # Output: $100.00\n",
        "\n",
        "\n",
        "# Test Case 2\n",
        "# Principal = $2500, Rate = 3.5%, Time = 4 years\n",
        "# Expected Interest = (2500 × 3.5 × 4) / 100 = $350\n",
        "interest2 = calculate_interest(2500, 3.5, 4)\n",
        "\n",
        "# Print the result\n",
        "print(f\"Interest 2: ${interest2:.2f}\")  # Output: $350.00\n",
        "\n",
        "\n",
        "# Test Case 3\n",
        "# Principal = $5000, Rate = 4.25%, Time = 1.5 years\n",
        "# Expected Interest = (5000 × 4.25 × 1.5) / 100 = $318.75\n",
        "interest3 = calculate_interest(5000, 4.25, 1.5)\n",
        "\n",
        "# Print the result\n",
        "print(f\"Interest 3: ${interest3:.2f}\")  # Output: $318.75\n",
        "\n",
        "# tested this in three different cases, which shows the principal and expected interest"
      ]
    }
  ]
}