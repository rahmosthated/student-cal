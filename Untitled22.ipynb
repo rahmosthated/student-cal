{
  "nbformat": 4,
  "nbformat_minor": 0,
  "metadata": {
    "colab": {
      "provenance": [],
      "authorship_tag": "ABX9TyPVfsO2LkVEznP0yQ6U4HSr",
      "include_colab_link": true
    },
    "kernelspec": {
      "name": "python3",
      "display_name": "Python 3"
    },
    "language_info": {
      "name": "python"
    }
  },
  "cells": [
    {
      "cell_type": "markdown",
      "metadata": {
        "id": "view-in-github",
        "colab_type": "text"
      },
      "source": [
        "<a href=\"https://colab.research.google.com/github/rahmosthated/student-cal/blob/main/Untitled22.ipynb\" target=\"_parent\"><img src=\"https://colab.research.google.com/assets/colab-badge.svg\" alt=\"Open In Colab\"/></a>"
      ]
    },
    {
      "cell_type": "code",
      "execution_count": null,
      "metadata": {
        "id": "owodfw5umkRL"
      },
      "outputs": [],
      "source": [
        "# ---------------------------------------------\n",
        "# Stage 1: Collect grades using a while loop\n",
        "# ---------------------------------------------\n",
        "\n",
        "# Create an empty list to store student grades\n",
        "grades = []\n",
        "\n",
        "# Start an infinite loop to continuously ask for grades\n",
        "while True:\n",
        "    # Ask the teacher to input a grade\n",
        "    grade_input = input(\"Enter a student grade (negative number to stop): \")\n",
        "\n",
        "    # Try converting the input to a float (to allow decimal grades like 85.5)\n",
        "    try:\n",
        "        grade = float(grade_input)\n",
        "    except ValueError:\n",
        "        # If conversion fails, tell the user and skip to the next loop\n",
        "        print(\"Invalid input. Please enter a number.\")\n",
        "        continue  # Go back to asking for input again\n",
        "\n",
        "    # Check if the grade is negative (used as a signal to stop entering grades)\n",
        "    if grade < 0:\n",
        "        break  # Exit the loop\n",
        "\n",
        "    # If the grade is valid, add it to the list\n",
        "    grades.append(grade)\n",
        "\n",
        "# ---------------------------------------------\n",
        "# Stage 2: Analyze grades using a for loop\n",
        "# ---------------------------------------------\n",
        "\n",
        "# Check if any grades were actually entered\n",
        "if len(grades) == 0:\n",
        "    print(\"No grades were entered.\")\n",
        "else:\n",
        "    # Initialize variables for total score and number of students who passed\n",
        "    total = 0\n",
        "    passed = 0\n",
        "\n",
        "    # Loop through each grade in the list\n",
        "    for g in grades:\n",
        "        total += g  # Add each grade to the total\n",
        "\n",
        "        # Check if the grade is a passing grade (50 or more)\n",
        "        if g >= 50:\n",
        "            passed += 1  # Increase the count of students who passed\n",
        "\n",
        "    # Calculate the average by dividing total by number of grades\n",
        "    average = total / len(grades)\n",
        "\n",
        "    # Print the calculated average, rounded to 2 decimal places\n",
        "    print(f\"\\nAverage grade: {average:.2f}\")\n",
        "\n",
        "    # Print the number of students who passed\n",
        "    print(f\"Number of students who passed: {passed}\")\n",
        "\n",
        "    # ---------------------------------------------\n",
        "    # Additional Logic: High-Achieving Class Check\n",
        "    # ---------------------------------------------\n",
        "\n",
        "    # If the average is greater than 80, it's a high-achieving class\n",
        "    if average > 80:\n",
        "        print(\"This is a high-achieving class!\")\n",
        "\n",
        "    # ---------------------------------------------\n",
        "    # Stage 3: Print Each Student's Result\n",
        "    # Using enumerate() to get both index and grade\n",
        "    # ---------------------------------------------\n",
        "\n",
        "    print(\"\\nStudent Grades:\")\n",
        "\n",
        "    # Loop through each grade with its index (starting at 0)\n",
        "    for index, grade in enumerate(grades):\n",
        "        # Determine pass/fail status\n",
        "        status = \"Passed\" if grade >= 50 else \"Failed\"\n",
        "\n",
        "        # Print the student number (index + 1), grade, and status\n",
        "        print(f\"Student {index + 1}: Grade = {grade}, Status = {status}\")\n"
      ]
    }
  ]
}